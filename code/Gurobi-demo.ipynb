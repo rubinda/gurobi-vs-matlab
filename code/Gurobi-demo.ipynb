{
 "cells": [
  {
   "cell_type": "markdown",
   "metadata": {},
   "source": [
    "# Gurobi primer v Python"
   ]
  },
  {
   "cell_type": "markdown",
   "metadata": {},
   "source": [
    "Primeri so povzeti po hitrem vodiču za Gurobi, dostopni na [Gurobi Quick Start Guides](https://www.gurobi.com/documentation/quickstart.html).\n",
    "\n",
    "V kolikor je bila namestitev __gurobipy__ uspešna, bi spodnji ukaz moral spisati kratko pomoč o vmesniku."
   ]
  },
  {
   "cell_type": "code",
   "execution_count": 1,
   "metadata": {},
   "outputs": [
    {
     "name": "stdout",
     "output_type": "stream",
     "text": [
      "\n",
      "  Gurobi shell.  Available top-level commands are:\n",
      "    read(): Read a model from a file (e.g., m = read(\"junk.mps\")\n",
      "            typically followed by m.optimize())\n",
      "    models(): Provide a list of the currently loaded models.\n",
      "    setParam(): Change a parameter setting (e.g., setParam(\"NodeLimit\", 10)).\n",
      "    readParams(): Read parameter settings from a file.\n",
      "    resetParams(): Reset parameters to their default values.\n",
      "    paramHelp(): Get help on a parameter (e.g., paramHelp(\"NodeLimit\")).\n",
      "    writeParams(): Write current parameter settings to a file.\n",
      "    system(): Perform a shell command (e.g., system(\"ls\")).\n",
      "\n",
      "  Additional help on each of these commands may be obtained by typing\n",
      "  \"help(command)\" (e.g., help(setParam)).\n",
      "\n",
      "  Additional commands are also available for the basic objects that are\n",
      "  created and manipulated within the Gurobi optimizer.  More help on these\n",
      "  commands can be obtained by typing:\n",
      "    help(Model)     : the Gurobi model object\n",
      "    help(Var)       : the Gurobi variable object\n",
      "    help(Constr)    : the Gurobi constraint object\n",
      "    help(Batch)     : the Gurobi batch object\n",
      "    help(GRB.attr)  : Gurobi attributes\n",
      "    help(GRB.param) : Gurobi parameters\n",
      "  \n"
     ]
    }
   ],
   "source": [
    "import numpy as np\n",
    "import gurobipy as gp\n",
    "import scipy.sparse as sp\n",
    "from gurobipy import GRB\n",
    "\n",
    "gp.help()"
   ]
  },
  {
   "cell_type": "markdown",
   "metadata": {},
   "source": [
    "## Enostaven primer:\n",
    "maksimiziraj \n",
    "```\n",
    "x + y + 2z\n",
    "```\n",
    "z omejitvami\n",
    "```\n",
    "x + 2y + 3z <= 4\n",
    "x + y >= 1\n",
    "x, y, z so binarne\n",
    "```"
   ]
  },
  {
   "cell_type": "code",
   "execution_count": 2,
   "metadata": {},
   "outputs": [
    {
     "name": "stdout",
     "output_type": "stream",
     "text": [
      "Academic license - for non-commercial use only - expires 2021-02-24\n",
      "Using license file /Users/david/gurobi.lic\n",
      "Gurobi Optimizer version 9.1.1 build v9.1.1rc0 (mac64)\n",
      "Thread count: 4 physical cores, 8 logical processors, using up to 8 threads\n",
      "Optimize a model with 2 rows, 3 columns and 5 nonzeros\n",
      "Model fingerprint: 0xf43f5bdf\n",
      "Variable types: 0 continuous, 3 integer (3 binary)\n",
      "Coefficient statistics:\n",
      "  Matrix range     [1e+00, 3e+00]\n",
      "  Objective range  [1e+00, 2e+00]\n",
      "  Bounds range     [1e+00, 1e+00]\n",
      "  RHS range        [1e+00, 4e+00]\n",
      "Found heuristic solution: objective 2.0000000\n",
      "Presolve removed 2 rows and 3 columns\n",
      "Presolve time: 0.00s\n",
      "Presolve: All rows and columns removed\n",
      "\n",
      "Explored 0 nodes (0 simplex iterations) in 0.01 seconds\n",
      "Thread count was 1 (of 8 available processors)\n",
      "\n",
      "Solution count 2: 3 \n",
      "\n",
      "Optimal solution found (tolerance 1.00e-04)\n",
      "Best objective 3.000000000000e+00, best bound 3.000000000000e+00, gap 0.0000%\n",
      "\n",
      "-------------------\n",
      "Najdena resitev:\n",
      "x=1.0\n",
      "y=0.0\n",
      "z=1.0\n",
      "vrednost: 3.0\n"
     ]
    }
   ],
   "source": [
    "try:\n",
    "    # Ustvari model \n",
    "    m = gp.Model(\"enostavenModel\")\n",
    "    # Ustvari spremenljivke\n",
    "    x = m.addVar(vtype=GRB.BINARY , name=\"x\")\n",
    "    y = m.addVar(vtype=GRB.BINARY , name=\"y\")\n",
    "    z = m.addVar(vtype=GRB.BINARY , name=\"z\")\n",
    "    # Nastavi cenitveno funkcijo\n",
    "    m.setObjective(x + y + 2 * z, GRB.MAXIMIZE)\n",
    "    # Podaj omejitve\n",
    "    m.addConstr(x + 2 * y + 3 * z  <= 4, \"c0\")\n",
    "    m.addConstr(x + y  >= 1, \"c1\")\n",
    "    # Pozeni optimizacijo modela\n",
    "    m.optimize()\n",
    "    \n",
    "    print('\\n-------------------')\n",
    "    print('Najdena resitev:')\n",
    "    for v in m.getVars():\n",
    "        print(f'{v.varName}={v.x}')\n",
    "    print(f'vrednost: {m.objVal}')\n",
    "except gp.GurobiError  as e:\n",
    "    print(f'Napaka {e.errno}: {e}')\n",
    "except AttributeError:\n",
    "    print('Napaka v atributih')"
   ]
  },
  {
   "cell_type": "markdown",
   "metadata": {},
   "source": [
    "## Uporaba z matrikami\n",
    "Podobno kot v MATLAB (ali R) lahko Gurobi uporabimo tudi s matrikami. Rešimo isti primer kot zgoraj z uporabo matrik:"
   ]
  },
  {
   "cell_type": "code",
   "execution_count": 3,
   "metadata": {},
   "outputs": [
    {
     "name": "stdout",
     "output_type": "stream",
     "text": [
      "Gurobi Optimizer version 9.1.1 build v9.1.1rc0 (mac64)\n",
      "Thread count: 4 physical cores, 8 logical processors, using up to 8 threads\n",
      "Optimize a model with 2 rows, 3 columns and 5 nonzeros\n",
      "Model fingerprint: 0x6d8be88c\n",
      "Variable types: 0 continuous, 3 integer (3 binary)\n",
      "Coefficient statistics:\n",
      "  Matrix range     [1e+00, 3e+00]\n",
      "  Objective range  [1e+00, 2e+00]\n",
      "  Bounds range     [1e+00, 1e+00]\n",
      "  RHS range        [1e+00, 4e+00]\n",
      "Found heuristic solution: objective 2.0000000\n",
      "Presolve removed 2 rows and 3 columns\n",
      "Presolve time: 0.00s\n",
      "Presolve: All rows and columns removed\n",
      "\n",
      "Explored 0 nodes (0 simplex iterations) in 0.01 seconds\n",
      "Thread count was 1 (of 8 available processors)\n",
      "\n",
      "Solution count 2: 3 \n",
      "\n",
      "Optimal solution found (tolerance 1.00e-04)\n",
      "Best objective 3.000000000000e+00, best bound 3.000000000000e+00, gap 0.0000%\n",
      "\n",
      "-------------------\n",
      "Najdena resitev:\n",
      "x=[1. 0. 1.]\n",
      "vrednost: 3.0\n"
     ]
    }
   ],
   "source": [
    "try:\n",
    "    # Ustvari model \n",
    "    m = gp.Model(\"matricniModel\")\n",
    "    # Ustvari spremenljivke\n",
    "    x = m.addMVar(shape=3, vtype=GRB.BINARY, name=\"x\")\n",
    "    \n",
    "    # Nastavi cenitveno funkcijo\n",
    "    f = np.array([1.0, 1.0, 2.0])\n",
    "    m.setObjective(f @ x, GRB.MAXIMIZE)\n",
    "    \n",
    "    # Redka matrika za levo stran ... preuredili smo drugo omejitev iz >= v <=\n",
    "    val = np.array([1.0, 2.0, 3.0, -1.0, -1.0])\n",
    "    # V kateri vrstici in stolpcu se nahaja val[i]? -> row[i] in col[i]\n",
    "    row = np.array([0, 0, 0, 1, 1]) # vrstice za vrednosti\n",
    "    col = np.array([0, 1, 2, 0, 1]) # stolpci za vrednosti\n",
    "    # Ustvari matriko\n",
    "    A = sp.csr_matrix((val, (row, col)), shape=(2, 3))\n",
    "    # Vektor na desni strani\n",
    "    b = np.array([4.0, -1.0])\n",
    "    # Uvedi omejitve v model\n",
    "    m.addConstr(A @ x <= b, name=\"c\")\n",
    "    \n",
    "    # Pozeni optimizacijo modela\n",
    "    m.optimize()\n",
    "    \n",
    "    print('\\n-------------------')\n",
    "    print('Najdena resitev:')\n",
    "    print(f'x={x.X}')\n",
    "    print(f'vrednost: {m.objVal}')\n",
    "except gp.GurobiError  as e:\n",
    "    print(f'Napaka {e.errno}: {e}')\n",
    "except AttributeError:\n",
    "    print('Napaka v atributih')"
   ]
  },
  {
   "cell_type": "markdown",
   "metadata": {},
   "source": [
    "## Uporaba LP formata\n",
    "__gurobipy__ podpira tudi LP (in MPS) formate. Primer reševanja problemov s kovanci (glej poročilo in poglavje _2.2.1 - Opis problema_ za podrobnosti):"
   ]
  },
  {
   "cell_type": "code",
   "execution_count": 4,
   "metadata": {},
   "outputs": [
    {
     "name": "stdout",
     "output_type": "stream",
     "text": [
      "Read LP format model from file coins.lp\n",
      "Reading time = 0.00 seconds\n",
      ": 4 rows, 10 columns, 18 nonzeros\n",
      "Gurobi Optimizer version 9.1.1 build v9.1.1rc0 (mac64)\n",
      "Thread count: 4 physical cores, 8 logical processors, using up to 8 threads\n",
      "Optimize a model with 4 rows, 10 columns and 18 nonzeros\n",
      "Model fingerprint: 0x90cc2da6\n",
      "Variable types: 4 continuous, 6 integer (0 binary)\n",
      "Coefficient statistics:\n",
      "  Matrix range     [6e-02, 1e+01]\n",
      "  Objective range  [1e-02, 1e+00]\n",
      "  Bounds range     [5e+01, 1e+03]\n",
      "  RHS range        [0e+00, 0e+00]\n",
      "Found heuristic solution: objective -0.0000000\n",
      "Presolve removed 1 rows and 6 columns\n",
      "Presolve time: 0.00s\n",
      "Presolved: 3 rows, 4 columns, 9 nonzeros\n",
      "Variable types: 0 continuous, 4 integer (0 binary)\n",
      "\n",
      "Root relaxation: objective 1.149294e+02, 2 iterations, 0.00 seconds\n",
      "\n",
      "    Nodes    |    Current Node    |     Objective Bounds      |     Work\n",
      " Expl Unexpl |  Obj  Depth IntInf | Incumbent    BestBd   Gap | It/Node Time\n",
      "\n",
      "     0     0  114.92942    0    1   -0.00000  114.92942      -     -    0s\n",
      "H    0     0                     114.8500000  114.92942  0.07%     -    0s\n",
      "H    0     0                     114.9000000  114.92942  0.03%     -    0s\n",
      "     0     0  114.92941    0    1  114.90000  114.92941  0.03%     -    0s\n",
      "     0     1  114.92941    0    1  114.90000  114.92941  0.03%     -    0s\n",
      "\n",
      "Explored 94 nodes (94 simplex iterations) in 0.04 seconds\n",
      "Thread count was 8 (of 8 available processors)\n",
      "\n",
      "Solution count 3: 114.9 114.85 -0 \n",
      "\n",
      "Optimal solution found (tolerance 1.00e-04)\n",
      "Best objective 1.149000000000e+02, best bound 1.149000000000e+02, gap 0.0000%\n",
      "\n",
      "-------------------\n",
      "Najdena resitev:\n",
      "Pennies=0.0\n",
      "Nickels=-0.0\n",
      "Dimes=4.0\n",
      "Quarters=50.0\n",
      "Halves=-0.0\n",
      "Dollars=102.0\n",
      "Cu=999.3884\n",
      "Ni=40.8946\n",
      "Zn=49.571999999999996\n",
      "Mn=28.916999999999998\n",
      "vrednost: 114.9\n"
     ]
    }
   ],
   "source": [
    "try:\n",
    "    coins_path = \"coins.lp\"\n",
    "    # Preberi model iz datoteke \n",
    "    m = gp.read(coins_path)\n",
    "    \n",
    "    # Pozeni optimizacijo modela\n",
    "    m.optimize()\n",
    "    \n",
    "    print('\\n-------------------')\n",
    "    print('Najdena resitev:')\n",
    "    for v in m.getVars():\n",
    "        print(f'{v.varName}={v.x}')\n",
    "    print(f'vrednost: {m.objVal}')\n",
    "except gp.GurobiError  as e:\n",
    "    print(f'Napaka {e.errno}: {e}')\n",
    "    print(f'Ali je pot do datoteke \"{coins_path}\" pravilna?')\n",
    "except AttributeError:\n",
    "    print('Napaka v atributih')"
   ]
  }
 ],
 "metadata": {
  "kernelspec": {
   "display_name": "Python 3",
   "language": "python",
   "name": "python3"
  },
  "language_info": {
   "codemirror_mode": {
    "name": "ipython",
    "version": 3
   },
   "file_extension": ".py",
   "mimetype": "text/x-python",
   "name": "python",
   "nbconvert_exporter": "python",
   "pygments_lexer": "ipython3",
   "version": "3.8.6"
  }
 },
 "nbformat": 4,
 "nbformat_minor": 4
}
